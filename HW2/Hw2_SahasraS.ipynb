{
 "cells": [
  {
   "cell_type": "markdown",
   "id": "aabb204b",
   "metadata": {},
   "source": [
    "## Multiple Choice and Short Answer"
   ]
  },
  {
   "cell_type": "markdown",
   "id": "e98d10aa",
   "metadata": {},
   "source": [
    "1) The network layer protocol that needs to be used with the first feature of an implementation of a real-time voice chat, is UDP because in the case of real-time communication, speed should be prioritized over reliability. Due to the fact that UDP is optimized for transmission of small packets of data like audio, it would be the best choice of protocol for this feature. For the second feature-- the network handlers that send player data from the end user’s clients to your dedicated, central servers-- the network protocol that should be used is TCP. TCP should be used for this feature because of the fact that reliability is of utmost importance here. Using TCP would ensure that player data is transmitted in a safe and reliable manner-- due its ability to detect corruption and correct errors-- while also retaining the order the data was sent in."
   ]
  },
  {
   "cell_type": "markdown",
   "id": "0a106d03",
   "metadata": {},
   "source": [
    "2) The unique, core purpose of the advanced database module known as sqlalchemy is to use a flexible ORM-- or a \"bridge\" between Python applications and relational databases-- which allows developers to interact with databases through Python instead of having to write raw SQL queries. This distinguishing property of the module enables users to better streamline workflow by providing a single, standard interface through which they can communicate with a wide variety of database engines. "
   ]
  },
  {
   "cell_type": "markdown",
   "id": "bf13cd7d",
   "metadata": {},
   "source": [
    "## Coding 1: Networked Number Guessing"
   ]
  },
  {
   "cell_type": "code",
   "execution_count": 1,
   "id": "b23820eb",
   "metadata": {},
   "outputs": [
    {
     "name": "stdout",
     "output_type": "stream",
     "text": [
      "Waiting for connectivity now...\n",
      "Got a connection from ('127.0.0.1', 50970)!\n",
      "('127.0.0.1', 50970) guessed low.\n",
      "('127.0.0.1', 50970) guessed low.\n",
      "('127.0.0.1', 50970) guessed high.\n",
      "('127.0.0.1', 50970) guessed high.\n",
      "('127.0.0.1', 50970) guessed high.\n",
      "('127.0.0.1', 50970) guessed high.\n",
      "('127.0.0.1', 50970) guessed high.\n",
      "('127.0.0.1', 50970) guessed correctly!\n"
     ]
    }
   ],
   "source": [
    "import socket\n",
    "import random\n",
    "#create a tcp socket SERVER\n",
    "def open_server():\n",
    "    host = '127.0.0.1'\n",
    "    port = 3456\n",
    "\n",
    "    with socket.socket(socket.AF_INET, socket.SOCK_STREAM) as tcpserversocket: #opens socket from server end\n",
    "        tcpserversocket.bind((host, port)) #binds to the port                                 \n",
    "        tcpserversocket.listen() #queues requests without a number of requests specified \n",
    "        print(\"Waiting for connectivity now...\") #once connection has been requested between server and client\n",
    "\n",
    "        clientsocket, address = tcpserversocket.accept()\n",
    "        print(f\"Got a connection from {address}!\") #prints once connection has been established between server and client \n",
    "        \n",
    "        numberToGuess = random.randint(0,100) #randomly initializes number to be guessed by client\n",
    "        \n",
    "        while True:\n",
    "            #while true loop so the server keeps listening\n",
    "            data = clientsocket.recv(1024).decode() #decodes message sent from client\n",
    "            if not data: #checks if anything was actually sent or not\n",
    "                break\n",
    "            guessReceived = int(data) #casts message as integer\n",
    "            if guessReceived == numberToGuess:\n",
    "                clientsocket.send(b\"correct\") #send back \"correct\" if client's guess matches randomly picked number\n",
    "                print(f\"{address} guessed correctly!\") #server outputs message that client's guess was correct\n",
    "                break #breaks while and ends program\n",
    "            elif guessReceived > numberToGuess:\n",
    "                clientsocket.send(b\"high\") #sends back \"high\" if client's guess was too high\n",
    "                print(f\"{address} guessed high.\") #server output reflects client's guess vs numberToGuess\n",
    "            elif guessReceived < numberToGuess:\n",
    "                clientsocket.send(b\"low\") #sends back \"low\" if client's guess was too high\n",
    "                print(f\"{address} guessed low.\") #server output reflects client's guess vs numberToGuess\n",
    "            else:\n",
    "                clientsocket.send(b\"invalid\") #sends back \"invalid\" if client's guess was not within range\n",
    "                print(f\"{address} guessed an invalid number.\") #server output reflects client's guess vs numberToGuess\n",
    "        clientsocket.close() #closes connection once while loop terminated\n",
    "\n",
    "        tcpserversocket.close() #closes server socket\n",
    "\n",
    "if __name__ == \"__main__\":\n",
    "    open_server()"
   ]
  },
  {
   "cell_type": "markdown",
   "id": "f30d89c4",
   "metadata": {},
   "source": [
    "## Coding 2: Request? NO!"
   ]
  },
  {
   "cell_type": "code",
   "execution_count": 3,
   "id": "c2239394",
   "metadata": {},
   "outputs": [
    {
     "name": "stdout",
     "output_type": "stream",
     "text": [
      "{\"location\":{\"name\":\"Chicago\",\"region\":\"Illinois\",\"country\":\"United States of America\",\"lat\":41.85,\"lon\":-87.65,\"tz_id\":\"America/Chicago\",\"localtime_epoch\":1675929268,\"localtime\":\"2023-02-09 1:54\"},\"current\":{\"last_updated_epoch\":1675928700,\"last_updated\":\"2023-02-09 01:45\",\"temp_c\":3.2,\"temp_f\":37.8,\"is_day\":0,\"condition\":{\"text\":\"Light drizzle\",\"icon\":\"//cdn.weatherapi.com/weather/64x64/night/266.png\",\"code\":1153},\"wind_mph\":6.9,\"wind_kph\":11.2,\"wind_degree\":60,\"wind_dir\":\"ENE\",\"pressure_mb\":1011.0,\"pressure_in\":29.86,\"precip_mm\":0.0,\"precip_in\":0.0,\"humidity\":97,\"cloud\":100,\"feelslike_c\":0.6,\"feelslike_f\":33.0,\"vis_km\":4.8,\"vis_miles\":2.0,\"uv\":1.0,\"gust_mph\":11.6,\"gust_kph\":18.7}}\n",
      "\n",
      "{\"location\":{\"name\":\"New York\",\"region\":\"New York\",\"country\":\"United States of America\",\"lat\":40.71,\"lon\":-74.01,\"tz_id\":\"America/New_York\",\"localtime_epoch\":1675929269,\"localtime\":\"2023-02-09 2:54\"},\"current\":{\"last_updated_epoch\":1675928700,\"last_updated\":\"2023-02-09 02:45\",\"temp_c\":2.8,\"temp_f\":37.0,\"is_day\":0,\"condition\":{\"text\":\"Clear\",\"icon\":\"//cdn.weatherapi.com/weather/64x64/night/113.png\",\"code\":1000},\"wind_mph\":4.3,\"wind_kph\":6.8,\"wind_degree\":30,\"wind_dir\":\"NNE\",\"pressure_mb\":1026.0,\"pressure_in\":30.29,\"precip_mm\":0.0,\"precip_in\":0.0,\"humidity\":64,\"cloud\":0,\"feelslike_c\":1.4,\"feelslike_f\":34.6,\"vis_km\":16.0,\"vis_miles\":9.0,\"uv\":1.0,\"gust_mph\":6.9,\"gust_kph\":11.2}}\n",
      "\n",
      "{\"location\":{\"name\":\"San Jose\",\"region\":\"California\",\"country\":\"United States of America\",\"lat\":37.34,\"lon\":-121.89,\"tz_id\":\"America/Los_Angeles\",\"localtime_epoch\":1675929283,\"localtime\":\"2023-02-08 23:54\"},\"current\":{\"last_updated_epoch\":1675928700,\"last_updated\":\"2023-02-08 23:45\",\"temp_c\":9.4,\"temp_f\":48.9,\"is_day\":0,\"condition\":{\"text\":\"Clear\",\"icon\":\"//cdn.weatherapi.com/weather/64x64/night/113.png\",\"code\":1000},\"wind_mph\":2.2,\"wind_kph\":3.6,\"wind_degree\":10,\"wind_dir\":\"N\",\"pressure_mb\":1026.0,\"pressure_in\":30.31,\"precip_mm\":0.0,\"precip_in\":0.0,\"humidity\":71,\"cloud\":0,\"feelslike_c\":9.6,\"feelslike_f\":49.2,\"vis_km\":16.0,\"vis_miles\":9.0,\"uv\":1.0,\"gust_mph\":3.4,\"gust_kph\":5.4}}\n",
      "\n",
      "{\"location\":{\"name\":\"Pittsburgh\",\"region\":\"Pennsylvania\",\"country\":\"United States of America\",\"lat\":40.44,\"lon\":-80.0,\"tz_id\":\"America/New_York\",\"localtime_epoch\":1675929283,\"localtime\":\"2023-02-09 2:54\"},\"current\":{\"last_updated_epoch\":1675928700,\"last_updated\":\"2023-02-09 02:45\",\"temp_c\":3.9,\"temp_f\":39.0,\"is_day\":0,\"condition\":{\"text\":\"Light rain\",\"icon\":\"//cdn.weatherapi.com/weather/64x64/night/296.png\",\"code\":1183},\"wind_mph\":2.2,\"wind_kph\":3.6,\"wind_degree\":10,\"wind_dir\":\"N\",\"pressure_mb\":1020.0,\"pressure_in\":30.13,\"precip_mm\":0.0,\"precip_in\":0.0,\"humidity\":96,\"cloud\":100,\"feelslike_c\":2.7,\"feelslike_f\":36.8,\"vis_km\":16.0,\"vis_miles\":9.0,\"uv\":1.0,\"gust_mph\":6.9,\"gust_kph\":11.2}}\n",
      "\n"
     ]
    }
   ],
   "source": [
    "import requests\n",
    "#API key for authentication purposes\n",
    "API_KEY = \"cdaefbf1be3a4bc5a96224516230902\"\n",
    "\n",
    "#specifying urls for retrieving data in JSON format\n",
    "endpoint_1 = f'http://api.weatherapi.com/v1/current.json?key={API_KEY}&q=London'\n",
    "endpoint_2 = f'http://api.weatherapi.com/v1/current.json?key={API_KEY}&q=New+York'\n",
    "endpoint_3 = f'http://api.weatherapi.com/v1/current.json?key={API_KEY}&q=Tokyo'\n",
    "endpoint_4 = f'http://api.weatherapi.com/v1/current.json?key={API_KEY}&q=Sydney'\n",
    "\n",
    "#specifying urls for retrieving data in XML format\n",
    "endpoint_x1 = f'http://api.weatherapi.com/v1/current.xml?key={API_KEY}&q=London'\n",
    "endpoint_x2 = f'http://api.weatherapi.com/v1/current.xml?key={API_KEY}&q=New+York'\n",
    "endpoint_x3 = f'http://api.weatherapi.com/v1/current.xml?key={API_KEY}&q=Tokyo'\n",
    "endpoint_x4 = f'http://api.weatherapi.com/v1/current.xml?key={API_KEY}&q=Sydney'\n",
    "\n",
    "# Request the data in JSON format from each endpoint\n",
    "response1 = requests.get(endpoint_1)\n",
    "response2 = requests.get(endpoint_2)\n",
    "response3 = requests.get(endpoint_3)\n",
    "response4 = requests.get(endpoint_4)\n",
    "\n",
    "# Request the data in XML format from each endpoint\n",
    "response_x1 = requests.get(endpoint_x1)\n",
    "response_x2 = requests.get(endpoint_x2)\n",
    "response_x3 = requests.get(endpoint_x3)\n",
    "response_x4 = requests.get(endpoint_x4)\n",
    "\n",
    "#writes JSON data to JSON files\n",
    "with open(\"weather_data1.json\", \"w\") as f:\n",
    "    f.write(response1.text)\n",
    "\n",
    "with open(\"weather_data2.json\", \"w\") as f:\n",
    "    f.write(response2.text)\n",
    "\n",
    "with open(\"weather_data3.json\", \"w\") as f:\n",
    "    f.write(response3.text)\n",
    "\n",
    "with open(\"weather_data4.json\", \"w\") as f:\n",
    "    f.write(response4.text)\n",
    "\n",
    "#writes XML data to XML files\n",
    "with open(\"weather_d1.xml\", \"w\") as f:\n",
    "    f.write(response_x1.text)\n",
    "\n",
    "with open(\"weather_d1.xml\", \"w\") as f:\n",
    "    f.write(response_x2.text)\n",
    "\n",
    "with open(\"weather_d1.xml\", \"w\") as f:\n",
    "    f.write(response_x3.text)\n",
    "\n",
    "with open(\"weather_d1.xml\", \"w\") as f:\n",
    "    f.write(response_x4.text)"
   ]
  },
  {
   "cell_type": "code",
   "execution_count": null,
   "id": "e040c296",
   "metadata": {},
   "outputs": [],
   "source": []
  }
 ],
 "metadata": {
  "kernelspec": {
   "display_name": "Python [conda env:acs-hw2]",
   "language": "python",
   "name": "conda-env-acs-hw2-py"
  },
  "language_info": {
   "codemirror_mode": {
    "name": "ipython",
    "version": 3
   },
   "file_extension": ".py",
   "mimetype": "text/x-python",
   "name": "python",
   "nbconvert_exporter": "python",
   "pygments_lexer": "ipython3",
   "version": "3.9.7"
  }
 },
 "nbformat": 4,
 "nbformat_minor": 5
}
