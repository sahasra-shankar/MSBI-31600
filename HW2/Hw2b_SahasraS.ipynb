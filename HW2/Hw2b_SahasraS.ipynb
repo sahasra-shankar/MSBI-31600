{
 "cells": [
  {
   "cell_type": "code",
   "execution_count": 1,
   "id": "288117fe",
   "metadata": {},
   "outputs": [
    {
     "name": "stdout",
     "output_type": "stream",
     "text": [
      "Guess a number between 0 and 100: 50\n",
      "data is:  low\n",
      "Your guess was too low, try again.\n",
      "Guess a number between 0 and 100: 60\n",
      "data is:  low\n",
      "Your guess was too low, try again.\n",
      "Guess a number between 0 and 100: 70\n",
      "data is:  high\n",
      "Your guess was too high, try again.\n",
      "Guess a number between 0 and 100: 65\n",
      "data is:  high\n",
      "Your guess was too high, try again.\n",
      "Guess a number between 0 and 100: 64\n",
      "data is:  high\n",
      "Your guess was too high, try again.\n",
      "Guess a number between 0 and 100: 63\n",
      "data is:  high\n",
      "Your guess was too high, try again.\n",
      "Guess a number between 0 and 100: 62\n",
      "data is:  high\n",
      "Your guess was too high, try again.\n",
      "Guess a number between 0 and 100: 61\n"
     ]
    },
    {
     "data": {
      "text/html": [
       "<img src=\"https://upload.wikimedia.org/wikipedia/commons/4/41/Firework.jpg\" width=\"300\" height=\"300\"/>"
      ],
      "text/plain": [
       "<IPython.core.display.Image object>"
      ]
     },
     "metadata": {},
     "output_type": "display_data"
    }
   ],
   "source": [
    "import socket\n",
    "from IPython.display import Image\n",
    "from IPython.display import display\n",
    "#tcp CLIENT\n",
    "\n",
    "def open_client():\n",
    "    host = 'localhost'\n",
    "    port = 3456\n",
    "    \n",
    "    with socket.socket(socket.AF_INET, socket.SOCK_STREAM) as tcpclientsocket: #opens socket from client end\n",
    "        tcpclientsocket.connect((host, port)) \n",
    "        guess = input(\"Guess a number between 0 and 100: \") #prompts user for int input between 0 and 100 \n",
    "        tcpclientsocket.send(guess.encode()) #sends server clients encoded guess\n",
    "        \n",
    "        while True:\n",
    "            data = tcpclientsocket.recv(1024).decode() #decodes message from server\n",
    "            while data != \"correct\": #keeps prompting user for new input while guess is incorrect\n",
    "                print(\"data is: \", data)\n",
    "                if data == \"low\":\n",
    "                    print(\"Your guess was too low, try again.\")\n",
    "                elif data == \"high\":\n",
    "                    print(\"Your guess was too high, try again.\")\n",
    "                else:\n",
    "                    print(\"Invalid guess, try again.\")\n",
    "                guess = input(\"Guess a number between 0 and 100: \")\n",
    "                tcpclientsocket.send(guess.encode()) #sends server new encoded guesses \n",
    "                break\n",
    "            if data == \"correct\": #checks if server sends back message \"correct\"\n",
    "                i = Image(url=\"https://upload.wikimedia.org/wikipedia/commons/4/41/Firework.jpg\", width=300, height=300)\n",
    "                display(i) #displays image of fireworks\n",
    "                break\n",
    "            \n",
    "        tcpclientsocket.close() #closes client socket and connection\n",
    "        \n",
    "\n",
    "if __name__ == \"__main__\":\n",
    "    open_client()"
   ]
  },
  {
   "cell_type": "code",
   "execution_count": null,
   "id": "b6816f77",
   "metadata": {},
   "outputs": [],
   "source": []
  }
 ],
 "metadata": {
  "kernelspec": {
   "display_name": "Python [conda env:acs-hw2]",
   "language": "python",
   "name": "conda-env-acs-hw2-py"
  },
  "language_info": {
   "codemirror_mode": {
    "name": "ipython",
    "version": 3
   },
   "file_extension": ".py",
   "mimetype": "text/x-python",
   "name": "python",
   "nbconvert_exporter": "python",
   "pygments_lexer": "ipython3",
   "version": "3.9.7"
  }
 },
 "nbformat": 4,
 "nbformat_minor": 5
}
